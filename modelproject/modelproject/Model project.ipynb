{
 "cells": [
  {
   "cell_type": "markdown",
   "metadata": {},
   "source": [
    "#### **Model project: A Solow model with fossil fuels and a climate externality**"
   ]
  },
  {
   "cell_type": "markdown",
   "metadata": {},
   "source": [
    "The motivation for this project is to analyze long-term growth in th presence of finite resources and a negative externality from previously utilized ressources. For this purpose, we analyze the following Solow model:\n",
    "\n",
    "**Model setup** <br>\n",
    "Equations (1)-(7) below charicterize a Solow model for a closed economy with depletable fossil , fuels. The stock of fossil fuels is denoted by $R_r$ and $E_t$ is the ammount of fossil fuels used as an input in production in each period. $Y_t$ denotes GDP and $K_t, L_t$ and $A_t$ denotes Capital, labor and total factor productivity (TFP), respectively. Equations (3) describes capital accumulation, equation (4) and (5) decribes the evolution of the stock of labour and TFP, respectively.\n",
    "\n",
    ":\n",
    "\\begin{equation}\n",
    "    Y = D_t \\cdot K^{\\alpha}_{t} (A_t L_t)^\\beta E^\\epsilon_t, \\quad \\alpha, \\beta, \\epsilon > 0 \\quad \\alpha + \\beta +\\epsilon = 1 \\tag{1}\n",
    "\\end{equation}\n",
    "\\begin{equation}\n",
    "    D_t = \\left( \\frac{R_t}{R_0} \\right) ^\\phi, \\quad \\phi > 0 \\tag{2}\n",
    "\\end{equation} \n",
    "\\begin{equation}\n",
    "    K_{t+1} = sY_t +(1-\\delta)K_t, \\quad 0 < \\delta < 1 \\tag{3}\n",
    "\\end{equation}\n",
    "\\begin{equation}\n",
    "     L_{t+1} = (1+n)L_t, \\quad  n \\geq 0  \\tag{4}\n",
    "\\end{equation}\n",
    "\\begin{equation}\n",
    "     A_{t+1} = (1+g)A_t, \\quad  g \\geq 0 \\tag{5}\n",
    "\\end{equation}\n",
    "\\begin{equation}\n",
    "     R_{t+1} = R_t - E_t \\tag{6}\n",
    "\\end{equation}\n",
    "\\begin{equation}\n",
    "     E_{t} = s_E R_t, \\quad  0  < s_E  < \\delta \\tag{7}\n",
    "\\end{equation}"
   ]
  },
  {
   "cell_type": "markdown",
   "metadata": {},
   "source": [
    "**Loading packages**"
   ]
  },
  {
   "cell_type": "code",
   "execution_count": 1,
   "metadata": {},
   "outputs": [],
   "source": [
    "import numpy as np\n",
    "from scipy import linalg\n",
    "from scipy import optimize as opt\n",
    "from scipy.ndimage.interpolation import shift\n",
    "import sympy as sm\n",
    "import pandas as pd\n",
    "import matplotlib.pyplot as plt\n",
    "sm.init_printing(pretty_print = True)\n",
    "from ipywidgets import interact, interactive, fixed, interact_manual\n",
    "import ipywidgets as widgets\n",
    "\n",
    "import matplotlib.animation as animation\n",
    "from matplotlib.widgets import Slider\n"
   ]
  },
  {
   "cell_type": "markdown",
   "metadata": {},
   "source": [
    "**Climate externality** \n",
    "\n",
    "The following graph maps the damage function of the climate externality for different values of the $\\phi$, i.e. the parameter that determines the marginal damage that the externality inflcits. As we will see, the nature of the loss functio is critical for whether climate change will affect long term growth. \n",
    "\\begin{equation}\n",
    "D_t = \\left(  \\frac{R_t}{R_0} \\right) ^\\phi , \\qquad \\phi  > 0  \\tag{Externality}\n",
    "\\end{equation}\n",
    "For $\\phi>1$ the marginal damage caused by the cumulcative use of fossil fuels will be decreasing and for $1>\\phi>0$ the marginal damage will be increasing."
   ]
  },
  {
   "cell_type": "code",
   "execution_count": 2,
   "metadata": {},
   "outputs": [
    {
     "data": {
      "application/vnd.jupyter.widget-view+json": {
       "model_id": "63276c33e3324c79956ec74eb6394c3e",
       "version_major": 2,
       "version_minor": 0
      },
      "text/plain": [
       "interactive(children=(FloatSlider(value=0.05, description='phi', max=4.0, min=0.05, step=0.05), Output()), _do…"
      ]
     },
     "metadata": {},
     "output_type": "display_data"
    },
    {
     "data": {
      "text/plain": [
       "<function __main__.plot_func(phi)>"
      ]
     },
     "execution_count": 2,
     "metadata": {},
     "output_type": "execute_result"
    }
   ],
   "source": [
    "    # The following figure shoes the transition of the damage function as fossil fuels are being depleated. \n",
    "   \n",
    "    def Damage_function(R0,RT,phi):\n",
    "        D = (RT/R0)**phi;                \n",
    "        return D\n",
    "\n",
    "    def plot_func(phi):\n",
    "        R0 = 100; \n",
    "        R_series = np.linspace(0.1,R0,100)\n",
    "        D_series = np.zeros(100)\n",
    "\n",
    "        for i in range(0,100):\n",
    "            D_series[i] = Damage_function(R0, R_series[i],phi)\n",
    "\n",
    "        fig = plt.figure()\n",
    "        ax = fig.add_subplot(111)\n",
    "        ax.set_title(\"Transition of $D_t$ for different values of phi\")\n",
    "        ax.set_xlabel('$R_T$ - stock left')\n",
    "        ax.set_ylabel('Damage function')\n",
    "        ax.set_xlim([0, 100])\n",
    "        ax.set_ylim([0, 1])   \n",
    "        x1 = np.linspace(*ax.get_xlim())\n",
    "        x2 = np.linspace(*ax.get_ylim())\n",
    "        ax.plot(x1, x2, 'k--')\n",
    "        ax.plot(R_series,D_series,'b')\n",
    "\n",
    "    interact(plot_func, phi = widgets.FloatSlider(Value=1, min=0.05, max=4, step=0.05))    "
   ]
  },
  {
   "cell_type": "markdown",
   "metadata": {},
   "source": [
    "**Production function** <br>\n",
    "The following function defines the Cobb-Douglas production function with the multiplicative damage function.\n",
    "We rewrite (1) using $E_t = s_E \\cdot R_T$ and the defition of $D_t$:\n",
    "\n",
    "$$Y_t = R_t^{\\phi + \\epsilon} R_0^{-\\phi} s_E^\\epsilon K^{\\alpha}_{t} (A_t L_t)^\\beta$$ "
   ]
  },
  {
   "cell_type": "code",
   "execution_count": 3,
   "metadata": {},
   "outputs": [],
   "source": [
    "# Production function\n",
    "def production(R,R0,A,L,K,phi,epsilon,se, beta, alpha):\n",
    "    Y = R**(phi + epsilon) * R0 **(-phi) * se**epsilon * (A*L)**beta * K**alpha\n",
    "    return Y"
   ]
  },
  {
   "cell_type": "code",
   "execution_count": 4,
   "metadata": {},
   "outputs": [],
   "source": [
    "# Analytical long run steady state level growth rate for plotting \n",
    "def gy_ss(beta,epsilon,g,n,phi,se):\n",
    "    g_ss = g*beta/(beta+epsilon) -n*epsilon/(beta+epsilon) -se*(epsilon+phi)/(beta+epsilon)\n",
    "    return g_ss"
   ]
  },
  {
   "cell_type": "markdown",
   "metadata": {},
   "source": [
    "**Simulating the model** <br>\n",
    "We simulate the model from time $t=1$ up to time $T=200$ which is abitrarily chosen, in a recursive fashion. The variables $R_t$, $A_t$ and $L_t$ grows exogeneously, output in the current period is given by current values $Y_t = F(K_t,L_t,A_t,R_T)$, but the next period kapital level $K_{t+1} = sY_t +(1-\\delta)K_t $ grows in a recursive fashion. We need to initialize the series at index [0] given this feature. We simulate the economy this way and plot the output/labor ratios and kapital/labor ratios."
   ]
  },
  {
   "cell_type": "code",
   "execution_count": 5,
   "metadata": {},
   "outputs": [],
   "source": [
    "#Parameter values\n",
    "alpha = 0.2\n",
    "beta = 0.6\n",
    "epsilon = 1-alpha -beta\n",
    "s = 0.2\n",
    "se = 0.005\n",
    "g = 0.02\n",
    "n = 0.02\n",
    "phi = 0.8\n",
    "delta = 0.08\n",
    "\n",
    "#Starting values for state varaibles\n",
    "K0 = 10\n",
    "R0 = 10\n",
    "L0 = 10\n",
    "A0 = 10\n",
    "\n",
    "# Empty vectors for storring result\n",
    "K_list = []\n",
    "R_list = []\n",
    "A_list = []\n",
    "L_list = []\n",
    "Y_list = []\n",
    "\n",
    "# Initialize \n",
    "K_list.append(K0)\n",
    "R_list.append(R0)\n",
    "A_list.append(A0)\n",
    "L_list.append(L0)\n",
    "Y_list.append(production(R0,R0,A0,L0,K0,phi,epsilon,se, beta,alpha)) \n",
    "\n",
    "T = 200; \n",
    "\n",
    "t = 1\n",
    "while t <= T:\n",
    "    K_list.append(s*Y_list[t-1] + (1-delta)*K_list[t-1])\n",
    "    R_list.append(R_list[t-1]*(1-se))\n",
    "    A_list.append(A_list[t-1]*(1+g))\n",
    "    L_list.append(L_list[t-1]*(1+n))\n",
    "    Y_list.append(production(R_list[t],R0,A_list[t],L_list[t],K_list[t],phi,epsilon,se, beta,alpha))\n",
    "    t += 1\n",
    "\n",
    "Y_list = np.array(Y_list) # To numpy array\n",
    "L_list = np.array(L_list) # To numpy array\n",
    "K_list = np.array(K_list) # To numpy array \n",
    "\n",
    "# Per units of labor \n",
    "y_list = Y_list/L_list  # Element wise division \n",
    "k_list = K_list/L_list\n",
    "\n",
    "\n",
    "Y_max = np.max(Y_list)\n",
    "K_max = np.max(K_list)"
   ]
  },
  {
   "cell_type": "code",
   "execution_count": 6,
   "metadata": {},
   "outputs": [
    {
     "data": {
      "image/png": "[encoded data removed]",
      "text/plain": [
       "<Figure size 1440x720 with 4 Axes>"
      ]
     },
     "metadata": {
      "needs_background": "light"
     },
     "output_type": "display_data"
    }
   ],
   "source": [
    "# Growth rate \n",
    "y_list_lagged = np.roll(y_list,1)\n",
    "k_list_lagged = np.roll(k_list,1)\n",
    "k_growth = np.log(k_list[1:200]) - np.log(k_list_lagged[1:200])\n",
    "y_growth = np.log(y_list[1:200]) - np.log(y_list_lagged[1:200])\n",
    "g_ss=gy_ss(beta,epsilon,g,n,phi,se) # steady state growth rate\n",
    "\n",
    "#Plot\n",
    "f = plt.figure()\n",
    "# first subplot\n",
    "\n",
    "f.set_figheight(10)\n",
    "f.set_figwidth(20)\n",
    "\n",
    "plt.subplot(2,2,1)\n",
    "plt.plot(y_list)\n",
    "plt.ylabel('y - GDP per worker')\n",
    "plt.xlabel('t - time period')\n",
    "plt.title('Evolution of GDP per worker')\n",
    "\n",
    "plt.subplot(2,2,2)\n",
    "plt.plot(k_list, color = 'g')\n",
    "plt.ylabel('k - Capital per worker')\n",
    "plt.xlabel('t - time period')\n",
    "plt.title('Evolution of Capital per worker')\n",
    "\n",
    "plt.subplot(2,2,3)\n",
    "plt.plot(y_growth)\n",
    "plt.axhline(g_ss, color='r', linestyle='--')\n",
    "plt.ylabel('Growth in - GDP per worker')\n",
    "plt.xlabel('t - time period')\n",
    "plt.title('Evolution of Growth in gdp per worker')\n",
    "\n",
    "plt.subplot(2,2,4)\n",
    "plt.plot(k_growth, color = 'g')\n",
    "plt.axhline(g_ss, color='r', linestyle='--')\n",
    "plt.ylabel('Growth in - GDP per worker')\n",
    "plt.xlabel('t - time period')\n",
    "plt.title('Evolution of Growth in Capital per worker')\n",
    "\n",
    "plt.show()"
   ]
  },
  {
   "cell_type": "markdown",
   "metadata": {},
   "source": [
    "From the graphs above we notice there is possitive growth in GDP pr. worker and Capital pr. worker even in the long run. This seems at firsthand rather counter intuitive: How can one manage to obtained sustained growth in the long run, when we exhaust a non-renewable ressource which is essential for production. This is a result of perfect substitution between the inputs of manmade capital and natural ressources. As time passes we will substitute towards using less natural ressources and more manmade capital in production, and in the limit we use an infinitesimal amount of the natural ressource. It should be noted the assumption of perfect substitution between these inputs have been critized by prominent economist as HERMAN E. DALY (1990) who argues against neoclassical production functions \"... Do extra sawmills substitute for diminishing forests? Do more refineries substitute for depleted oil wells? Do larger nets substitute for declining fish populations?\". \n",
    "\n",
    "Additional it is noticeable that the growth rate in capital per worker and growth rate in gdp per worker, converges to the same level in the long run. From this we suggest there must exist some level of capital/ output ratio which is constant in a steady state level. In the following we examing this."
   ]
  },
  {
   "cell_type": "markdown",
   "metadata": {},
   "source": [
    "**Finding the steady-state**"
   ]
  },
  {
   "cell_type": "markdown",
   "metadata": {},
   "source": [
    "In the last section we established that the growth rate of capital and output was identical in the long run. If we define capital/ output ratio $z_t \\equiv \\frac{K_t}{Y_t} = \\frac{k_t}{y_t}$, we are now interested in determining the steady of this ratio. Straight forward algebra of the model equations gives us the following transition equation:\n",
    "\n",
    "$z_{t+1} = \\left( \\frac{1}{1-s_e}\\right)^{\\epsilon + \\phi}\\left(\\frac{1}{(1+n)(1+g)}\\right)^{\\beta}(s+(1-\\delta)z_{t})^{1-\\alpha}z_{t}^{\\alpha}$\n",
    "\n",
    "The steady state value is characterized by $z_{t} = z_{t+1} = z_{ss}$ or equivalently the growth rate of $z$ $g_z = 0$."
   ]
  },
  {
   "cell_type": "markdown",
   "metadata": {},
   "source": [
    "**Numerical solution of the capital output ratio, $z_t$**\n",
    "\n",
    "To find the steady state numerically, we try different numerical methods. We consider the Newton algorithm which is gradient based, the bisection method and the brentq method, which combines a bisection medthod along with other optimization procedures. We simply use numerical derivatives for the newton algorithm, but one could consider for simple problems of passing analytical gradient and hessian. Concerning the bisection method and the brentq (who combines this method), we need to pass an interval in which to find the root. WE have used different optimization methods with the same same tolerance level for all the algorithms."
   ]
  },
  {
   "cell_type": "code",
   "execution_count": 7,
   "metadata": {},
   "outputs": [
    {
     "name": "stdout",
     "output_type": "stream",
     "text": [
      "(1.92835954580555,       converged: True\n",
      "           flag: 'converged'\n",
      " function_calls: 7\n",
      "     iterations: 6\n",
      "           root: 1.92835954580555)\n",
      "(1.9283595391735433,       converged: True\n",
      "           flag: 'converged'\n",
      " function_calls: 29\n",
      "     iterations: 27\n",
      "           root: 1.9283595391735433)\n",
      "(1.9283595458055507,       converged: True\n",
      "           flag: 'converged'\n",
      " function_calls: 6\n",
      "     iterations: 5\n",
      "           root: 1.9283595458055507)\n"
     ]
    }
   ],
   "source": [
    "# Solve for ss \n",
    "#Parameter values\n",
    "alpha = 0.2\n",
    "beta = 0.6\n",
    "epsilon = 1-alpha -beta\n",
    "s = 0.2\n",
    "se = 0.005\n",
    "g = 0.02\n",
    "n = 0.02\n",
    "phi = 0.8\n",
    "delta = 0.08\n",
    "\n",
    "def helpfun(se, eps, phi, n, g, beta):\n",
    "    frac = (1/(1-se))**(epsilon + phi) * (1/((1+n)*(1+g)))**beta \n",
    "    return (frac)\n",
    "\n",
    "power_alpha = lambda z: z**alpha\n",
    "depsav = lambda z: (s + (1-delta)*z)**(1-alpha)\n",
    "Obj_ss = lambda zss: zss - helpfun(se, epsilon, phi, n, g, beta)*depsav(zss)*power_alpha(zss)\n",
    "\n",
    "# Newton Method\n",
    "z_start = 0.2;\n",
    "zss_newton = opt.newton(Obj_ss, z_start, tol = 1.48e-08, rtol=4.5e-9, maxiter=100,\n",
    "                        full_output=True, disp=True)\n",
    "# Bisection\n",
    "zmin = 0.001\n",
    "zmax = 2\n",
    "zss_bisect = opt.bisect(Obj_ss, zmin, zmax,args=(), xtol=1.48e-08,\n",
    "                    rtol=4.5e-9, maxiter=100,\n",
    "                    full_output=True, disp=True)\n",
    "# Brent - q\n",
    "zss_brentq = opt.brentq(Obj_ss, zmin, zmax,\n",
    "                    args=(), xtol=1.48e-08,\n",
    "                    rtol=4.5e-9, maxiter=100,\n",
    "                    full_output=True, disp=True)\n",
    "print(zss_newton)\n",
    "print(zss_bisect)\n",
    "print(zss_brentq)\n",
    "# Brentq method\n",
    "result = opt.root_scalar(Obj_ss,bracket=[0.01,10], method = 'brentq')"
   ]
  },
  {
   "cell_type": "markdown",
   "metadata": {},
   "source": [
    "From the results we notice all 3 root-findings method converge to the same result (within an appropriate number of decimals). There is big difference in how fast the algorithms converge. The newton- and qbrent method approximately converge at the same speed the bisection method use a vastly higher amount of iterations to converge. In this application the \"brent-q\" method seems the fastest, but this may also be a result of starting values and interval size etc."
   ]
  },
  {
   "cell_type": "markdown",
   "metadata": {},
   "source": [
    "**Solving the model symbolcally using the sympy packages**\n",
    "\n",
    "In the following we solve the steady state symbolically, by the sympy package. We had to \"help\" with some of the derivations for it to work."
   ]
  },
  {
   "cell_type": "code",
   "execution_count": 8,
   "metadata": {},
   "outputs": [
    {
     "data": {
      "image/png": "[encoded data removed]",
      "text/latex": [
       "$$z^{*} = \\frac{s}{\\delta + \\left(\\left(- \\frac{1}{se - 1}\\right)^{\\epsilon + \\phi} \\left(\\frac{1}{g n + g + n + 1}\\right)^{\\beta}\\right)^{\\frac{1}{\\alpha - 1}} - 1}$$"
      ],
      "text/plain": [
       "                              s                       \n",
       "z__* = ───────────────────────────────────────────────\n",
       "                                               1      \n",
       "                                             ─────    \n",
       "                                             α - 1    \n",
       "           ⎛        ε + φ                  β⎞         \n",
       "           ⎜⎛ -1   ⎞      ⎛       1       ⎞ ⎟         \n",
       "       δ + ⎜⎜──────⎟     ⋅⎜───────────────⎟ ⎟      - 1\n",
       "           ⎝⎝se - 1⎠      ⎝g⋅n + g + n + 1⎠ ⎠         "
      ]
     },
     "execution_count": 8,
     "metadata": {},
     "output_type": "execute_result"
    }
   ],
   "source": [
    "z = sm.symbols('k')\n",
    "se = sm.symbols('se')\n",
    "epsilon = sm.symbols('epsilon')\n",
    "phi = sm.symbols('phi')\n",
    "beta = sm.symbols('beta')\n",
    "n = sm.symbols('n')\n",
    "g = sm.symbols('g')\n",
    "s = sm.symbols('s')\n",
    "delta = sm.symbols('delta')\n",
    "alpha = sm.symbols('alpha')\n",
    "                   \n",
    "\n",
    "# write your code here\n",
    "frag = 1/((1 + n)*(1 + g)) # Fraction \n",
    "V = ((1/(1-se))**(phi + epsilon)) * frag**beta # Terms which does not depend on z\n",
    "\n",
    "\n",
    "steadystate = sm.Eq(V**(1/(1-alpha)) * (s + (1-delta)*z),z)\n",
    "zss = sm.solve(steadystate,z)[0]\n",
    "z = sm.symbols('z^*')\n",
    "zequation = sm.Eq(z,zss)\n",
    "zequation"
   ]
  },
  {
   "cell_type": "markdown",
   "metadata": {},
   "source": [
    "This expression looks somewhat similar as the analytical expression for the model, we will compare it numerically later.   "
   ]
  },
  {
   "cell_type": "code",
   "execution_count": 9,
   "metadata": {},
   "outputs": [],
   "source": [
    "# We save python function\n",
    "z_ss_func = sm.lambdify((s,epsilon,se,n,g,phi,beta,delta,alpha),zss) # Steady state value "
   ]
  },
  {
   "cell_type": "markdown",
   "metadata": {},
   "source": [
    "We will compare these results to the analytical solution: \n",
    "$$z^*=\\frac{s}{(1-s_E)^{\\frac{\\epsilon+\\phi}{\\beta+\\epsilon}}[(1+n)(1+g)]^\\frac{\\beta}{\\beta+\\epsilon}-(1-\\delta)} >0$$\n"
   ]
  },
  {
   "cell_type": "code",
   "execution_count": 10,
   "metadata": {},
   "outputs": [
    {
     "name": "stdout",
     "output_type": "stream",
     "text": [
      "The steady-state value using the analytical expression is 1.9284, \n",
      "    The steady-state value using the sympy derieved expression is 1.9284,\n",
      "    The steady-state value using numerical methods is 1.9284\n"
     ]
    }
   ],
   "source": [
    "# Analytical solution and comparing all the results\n",
    "    \n",
    "alpha = 0.2\n",
    "beta = 0.6\n",
    "epsilon = 1-alpha -beta\n",
    "s = 0.2\n",
    "se = 0.005\n",
    "g = 0.02\n",
    "n = 0.02\n",
    "phi = 0.8\n",
    "delta = 0.08\n",
    "\n",
    "def z_ss_analytical(s, se, epsilon, phi, n, g, beta, alpha, delta):\n",
    "    denominator = (1-se)**((epsilon+phi)/(beta+epsilon))*((1+n)*(1+g))**(beta/(beta + epsilon)) - (1-delta)\n",
    "    z_ss = s/denominator\n",
    "    return(z_ss)\n",
    "\n",
    "z_ss_analytical = z_ss_analytical(s,se, epsilon, phi, n, g, beta, alpha, delta)\n",
    "z_ss_sm = z_ss_func(s,epsilon,se,n,g,phi,beta,delta,alpha)\n",
    "z_num = zss_brentq\n",
    "print(f'''The steady-state value using the analytical expression is {z_ss_analytical:.4f}, \n",
    "    The steady-state value using the sympy derieved expression is {z_ss_sm:.4f},\n",
    "    The steady-state value using numerical methods is {z_num[0]:.4f}''')\n"
   ]
  },
  {
   "cell_type": "markdown",
   "metadata": {},
   "source": [
    "Both our \"sympy\" and numerical methods gives the same result as the analytical solution. This shows that the solution derived by sympy was the correct solution. "
   ]
  },
  {
   "cell_type": "markdown",
   "metadata": {},
   "source": [
    "**Plotting the transition diagram**\n",
    "\n",
    "In order to plot the transition diagram we need the values for $z_t$ and $z_{t+1}$, respectively. Steady state is found where $z_t = z_{t+1}$ and thus where the curve intersects the 45 degree line. \n",
    "\n",
    "We start out by defining a function for the transition equation."
   ]
  },
  {
   "cell_type": "code",
   "execution_count": 11,
   "metadata": {},
   "outputs": [],
   "source": [
    "def z_next_func(s,epsilon,se,n,g,phi,beta,delta,alpha,x):\n",
    "    z = (1/(1-se))**(epsilon+phi)*(1/((1+n)*(1+g)))**beta*(s+(1-delta)*x)**(1-alpha)*x**alpha\n",
    "    return z"
   ]
  },
  {
   "cell_type": "code",
   "execution_count": 12,
   "metadata": {},
   "outputs": [
    {
     "data": {
      "application/vnd.jupyter.widget-view+json": {
       "model_id": "bbafec3a9df84490a1af7a59e7079a89",
       "version_major": 2,
       "version_minor": 0
      },
      "text/plain": [
       "interactive(children=(FloatSlider(value=0.2, description='$s$', max=1.0, step=0.01), FloatSlider(value=0.005, …"
      ]
     },
     "metadata": {},
     "output_type": "display_data"
    },
    {
     "data": {
      "text/plain": [
       "<function __main__.transition(s, epsilon, se, n, g, phi, beta, delta, alpha)>"
      ]
     },
     "execution_count": 12,
     "metadata": {},
     "output_type": "execute_result"
    }
   ],
   "source": [
    "# Create a for loop to calculate the values of the transition equation in all T=200 periods.   \n",
    "x = np.zeros((T,1))\n",
    "x[0] = 0.00\n",
    "for t in range(0,T-1):\n",
    "    x[t+1] = z_next_func(s,epsilon,se,n,g,phi,beta,delta,alpha,x[t])\n",
    "\n",
    "# Define the function \"transition()\" in order to create figure with the transition diagram\n",
    "# and make it possible to create float sliders for specific variables. \n",
    "\n",
    "def transition(s,epsilon,se,n,g,phi,beta,delta,alpha): \n",
    "    zmin = 0.0 \n",
    "    zmax = z_ss_func(s,epsilon,se,n,g,phi,beta,delta,alpha)*1.2\n",
    "\n",
    "    z_set = np.linspace(zmin, zmax,100)\n",
    "    fig1 = plt.figure(figsize=(6.5,5),facecolor = 'white')\n",
    "    plt.plot(z_set,z_next_func(s,epsilon,se,n,g,phi,beta,delta,alpha,z_set),'k-', #transition function\n",
    "             z_set, z_set, 'r--',  #45 degree line\n",
    "             z_ss_func(s,epsilon,se,n,g,phi,beta,delta,alpha), z_ss_func(s,epsilon,se,n,g,phi,beta,delta,alpha), 'ko', #st.st. point\n",
    "            (z_ss_func(s,epsilon,se,n,g,phi,beta,delta,alpha), z_ss_func(s,epsilon,se,n,g,phi,beta,delta,alpha)),\n",
    "            (z_ss_func(s,epsilon,se,n,g,phi,beta,delta,alpha),0),'k--') # Vertical dashed line at st.st.\n",
    "    plt.ylim(bottom=0) #let plot start at z_(t+1) = 0\n",
    "    plt.xlim(left=0) #let plot start at z_t = 0\n",
    "    plt.xlabel('$z_t$')\n",
    "    plt.ylabel('$z_{t+1}$')\n",
    "    plt.title('Transition diagram for the capital output ratio, $z_t$')\n",
    "    plt.show(fig1)\n",
    "\n",
    "\n",
    "# Create float sliders     \n",
    "widgets.interact(transition,\n",
    "                 s = widgets.FloatSlider(description='$s$',min=0, max=1, step=0.01, value=0.20),\n",
    "                 epsilon = widgets.fixed(epsilon),\n",
    "                 beta = widgets.fixed(beta),\n",
    "                 alpha = widgets.fixed(alpha),\n",
    "                 se = widgets.FloatSlider(description='$s_{E}$', min=0, max=0.01, step=0.001, value=0.005),\n",
    "                 n = widgets.FloatSlider(description='$n$', min=0, max=1, step=0.001, value=0.01),\n",
    "                 g = widgets.FloatSlider(description='$g$', min=0, max=1, step=0.001, value=0.02),\n",
    "                 phi = widgets.FloatSlider(description='$\\phi$', min=0, max=5, step=0.1, value=2),\n",
    "                 delta = widgets.fixed(delta)\n",
    "                )"
   ]
  },
  {
   "cell_type": "markdown",
   "metadata": {},
   "source": [
    "**An increase in the savings rate:** Capital accumulation increases which leads to an increase in both capital and output. The effect of an increase in the savings rate is greater with respect to capital, however. This is due to the (highly plausable) assumption that the output elasticity with respect to capital is less than 1. Hence, an increase in the savings rate increases the capital/output ratio in steady state.   \n",
    "**An increase in $s_E$:** An increase in $s_E$ increases the steady state value of the capital/output ratio. An increase in $s_E$ means that a greater fraction of the remaining stock of fossil fuels is used each period. Initially this increases production through an increase in energy input.\n",
    "<br>**An increase in n:** An increase in population growth lowers the steady state value.  \n",
    "*An increase in g:* An increase in technology growth lowers the steady state value of the capital output ratio. This follows from the fact that less capital is needed in order to produce a given amount of output. \n",
    "<br>**An increase in $\\phi$:** An increase in $\\phi$ increases the steady state value of $z$."
   ]
  },
  {
   "cell_type": "markdown",
   "metadata": {},
   "source": [
    "**New damage function and the prospect of long-term growth** <br>\n",
    "Untill now it have been possible to have long term growth in the output labor ratio and the kapital labor ratio. Thus, we have been able to find a steady state capital output ratio $z_{ss}$. Now, we alter the damage function and introduce a parameter $\\bar \\rho $. This parameter reflects a \"tipping point\" in the damage function: when this point is surpassed production will halt completely! Formaly we define:\n",
    "\n",
    "\\begin{equation}\n",
    "D_t = \\left( \\frac{ \\left( \\frac{R_t}{R_0}\\right) - \\bar \\rho }{1-\\bar \\rho} \\right) ^\\phi , \\qquad \\phi  > 0 \\qquad  0<\\bar \\rho < 1\n",
    "\\end{equation}\n",
    "\n",
    "with $\\bar \\rho R_t \\leq R_t \\leq R_0$."
   ]
  },
  {
   "cell_type": "code",
   "execution_count": 19,
   "metadata": {},
   "outputs": [
    {
     "data": {
      "application/vnd.jupyter.widget-view+json": {
       "model_id": "0e6fe3a1da114610b8a73570bf2017a9",
       "version_major": 2,
       "version_minor": 0
      },
      "text/plain": [
       "interactive(children=(FloatSlider(value=0.05, description='phi', max=4.0, min=0.05, step=0.05), FloatSlider(va…"
      ]
     },
     "metadata": {},
     "output_type": "display_data"
    },
    {
     "data": {
      "text/plain": [
       "<function __main__.plot_func(phi, rho)>"
      ]
     },
     "execution_count": 19,
     "metadata": {},
     "output_type": "execute_result"
    }
   ],
   "source": [
    "## Second damage function\n",
    "\n",
    "def Damagefunc2(R0,RT,phi,rho):\n",
    "    D = (((RT/R0)-rho)/(1-rho))**phi                \n",
    "    return (D)\n",
    "\n",
    "def plot_func(phi,rho):\n",
    "        R0 = 100;\n",
    "        R_series = np.linspace(R0*rho,R0,100)\n",
    "        D_series = np.zeros(100)\n",
    "\n",
    "        for i in range(0,100):\n",
    "            D_series[i] = Damagefunc2(R0, R_series[i],phi,rho)\n",
    "\n",
    "        fig = plt.figure()\n",
    "        ax = fig.add_subplot(111)\n",
    "        ax.set_title(\"Transition of $D_t$ for different values of phi\")\n",
    "        ax.set_xlabel('$R_T$ - stock left')\n",
    "        ax.set_ylabel('Damage function')\n",
    "        ax.set_xlim([0, 100])\n",
    "        ax.set_ylim([0, 1])   \n",
    "        x1 = np.linspace(*ax.get_xlim())\n",
    "        x2 = np.linspace(*ax.get_ylim())\n",
    "        ax.plot(R_series,D_series,'b')\n",
    "\n",
    "interact(plot_func, phi = widgets.FloatSlider(Value=1, min=0.05, max=4, step=0.05), rho = widgets.FloatSlider(Value=2, min=0.1, max=1, step=0.05))"
   ]
  },
  {
   "cell_type": "markdown",
   "metadata": {},
   "source": [
    " The figure illustrates that the prospect of long-term growth is higly dependent on the nature of the climate externality. In the first case, long-term growth was possible even though the value of the damage function converges to zero. Growth was possible because output tended to infinity as $D_t$ tenden to zero. In the seconde case, however, the tipping point means that the damage function becomes zero at a certain year and "
   ]
  },
  {
   "cell_type": "markdown",
   "metadata": {},
   "source": [
    "**Concluding remarks**"
   ]
  },
  {
   "cell_type": "markdown",
   "metadata": {},
   "source": [
    "In this project we have investigated how incorporating fossil fuels and an associated damage function alters the classic results from the general Solow model with technology. We have shown that balanced growth is attainable even in the presence of a climate externality. The assumptions underlying the damage function are however vital for this conclusion. A damage function that builds on the assumption that the damage effect has a gradual impact on production is compatible with balanced growth while the introduction of a \"tipping point\" in the damage function is not. \n",
    "Naturally, this is of great importance when considering policy implications."
   ]
  }
 ],
 "metadata": {
  "kernelspec": {
   "display_name": "Python 3",
   "language": "python",
   "name": "python3"
  },
  "language_info": {
   "codemirror_mode": {
    "name": "ipython",
    "version": 3
   },
   "file_extension": ".py",
   "mimetype": "text/x-python",
   "name": "python",
   "nbconvert_exporter": "python",
   "pygments_lexer": "ipython3",
   "version": "3.7.3"
  }
 },
 "nbformat": 4,
 "nbformat_minor": 2
}
